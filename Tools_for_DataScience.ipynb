{
  "nbformat": 4,
  "nbformat_minor": 0,
  "metadata": {
    "colab": {
      "provenance": []
    },
    "kernelspec": {
      "name": "python3",
      "display_name": "Python 3"
    },
    "language_info": {
      "name": "python"
    }
  },
  "cells": [
    {
      "cell_type": "code",
      "execution_count": 1,
      "metadata": {
        "id": "65LCZlJehv8_"
      },
      "outputs": [],
      "source": [
        "# Data Science Project Notebook\n"
      ]
    },
    {
      "cell_type": "markdown",
      "source": [],
      "metadata": {
        "id": "Ic7R554BidXh"
      }
    },
    {
      "cell_type": "markdown",
      "source": [
        "## Introduction\n",
        "This notebook showcases various aspects of data science, including programming languages, libraries, and tools commonly used in the field. It also includes arithmetic expressions and code examples that demonstrate basic data operations.\n"
      ],
      "metadata": {
        "id": "tN0uv-FUiibw"
      }
    },
    {
      "cell_type": "markdown",
      "source": [
        "## Data Science Languages\n",
        "1. Python\n",
        "2. R\n",
        "3. SQL\n",
        "4. Julia\n",
        "5. Scala\n"
      ],
      "metadata": {
        "id": "2GjYpOL7itgg"
      }
    },
    {
      "cell_type": "markdown",
      "source": [
        "## Data Science Libraries\n",
        "1. Pandas\n",
        "2. NumPy\n",
        "3. Matplotlib\n",
        "4. Seaborn\n",
        "5. TensorFlow\n",
        "6. Scikit-learn\n"
      ],
      "metadata": {
        "id": "T02I3x8Ii1v_"
      }
    },
    {
      "cell_type": "markdown",
      "source": [
        "## Data Science Tools\n",
        "\n",
        "| Tool          | Description                                      |\n",
        "|---------------|--------------------------------------------------|\n",
        "| Jupyter       | A popular interactive computing environment     |\n",
        "| Pandas        | Data manipulation and analysis library in Python |\n",
        "| TensorFlow    | Machine learning framework by Google             |\n",
        "| Power BI      | Business analytics tool for visualizing data     |\n",
        "| GitHub        | A platform for version control and collaboration |\n"
      ],
      "metadata": {
        "id": "ZL_Tp5Ioi-DW"
      }
    },
    {
      "cell_type": "markdown",
      "source": [
        "## Arithmetic Expression Examples\n",
        "In this section, we will demonstrate how to perform arithmetic operations like addition and multiplication using Python.\n"
      ],
      "metadata": {
        "id": "dljVHDVIjFvh"
      }
    },
    {
      "cell_type": "code",
      "source": [
        "# Multiplying and adding numbers\n",
        "a = 5\n",
        "b = 10\n",
        "result = a * b + 15\n",
        "result\n"
      ],
      "metadata": {
        "colab": {
          "base_uri": "https://localhost:8080/"
        },
        "id": "uYCoXo3XijFE",
        "outputId": "ca54044c-57a9-43cf-d395-03560a04a31b"
      },
      "execution_count": 3,
      "outputs": [
        {
          "output_type": "execute_result",
          "data": {
            "text/plain": [
              "65"
            ]
          },
          "metadata": {},
          "execution_count": 3
        }
      ]
    },
    {
      "cell_type": "code",
      "source": [
        "# Convert minutes to hours\n",
        "minutes = 150\n",
        "hours = minutes / 60\n",
        "hours\n"
      ],
      "metadata": {
        "colab": {
          "base_uri": "https://localhost:8080/"
        },
        "id": "P8a3xMMEjNXM",
        "outputId": "bc4e2faa-d8ec-48b6-ab36-c4c0c30eb76c"
      },
      "execution_count": 4,
      "outputs": [
        {
          "output_type": "execute_result",
          "data": {
            "text/plain": [
              "2.5"
            ]
          },
          "metadata": {},
          "execution_count": 4
        }
      ]
    },
    {
      "cell_type": "markdown",
      "source": [
        "## Objectives\n",
        "- Understand the core programming languages used in data science.\n",
        "- Familiarize with popular data science libraries and tools.\n",
        "- Learn to perform basic arithmetic operations using Python.\n",
        "- Convert time measurements between minutes and hours.\n"
      ],
      "metadata": {
        "id": "l1hP3xqJjcnn"
      }
    },
    {
      "cell_type": "markdown",
      "source": [
        "## Author\n",
        "This notebook was created by Pawan Kumar.\n"
      ],
      "metadata": {
        "id": "oDN9e1fTjiwi"
      }
    },
    {
      "cell_type": "code",
      "source": [],
      "metadata": {
        "id": "6XJ0QN5yjUHZ"
      },
      "execution_count": null,
      "outputs": []
    }
  ]
}